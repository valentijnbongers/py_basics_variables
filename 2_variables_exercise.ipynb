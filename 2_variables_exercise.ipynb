{
  "cells": [
    {
      "cell_type": "markdown",
      "metadata": {
        "id": "view-in-github",
        "colab_type": "text"
      },
      "source": [
        "<a href=\"https://colab.research.google.com/github/valentijnbongers/py_basics_variables/blob/main/2_variables_exercise.ipynb\" target=\"_parent\"><img src=\"https://colab.research.google.com/assets/colab-badge.svg\" alt=\"Open In Colab\"/></a>"
      ]
    },
    {
      "cell_type": "markdown",
      "metadata": {
        "id": "OcTGCdl1fzog"
      },
      "source": [
        "**1. Create a variable called break and assign it a value 5. See what happens and find out the reason behind the behavior that you see**"
      ]
    },
    {
      "cell_type": "code",
      "execution_count": 1,
      "metadata": {
        "scrolled": true,
        "colab": {
          "base_uri": "https://localhost:8080/",
          "height": 106
        },
        "id": "UzPa9ntMfzoh",
        "outputId": "7e9e5e93-9c6d-4f1e-f334-8da1c18f4bfd"
      },
      "outputs": [
        {
          "output_type": "error",
          "ename": "SyntaxError",
          "evalue": "invalid syntax (<ipython-input-1-7abc8ab243ff>, line 1)",
          "traceback": [
            "\u001b[0;36m  File \u001b[0;32m\"<ipython-input-1-7abc8ab243ff>\"\u001b[0;36m, line \u001b[0;32m1\u001b[0m\n\u001b[0;31m    break=5\u001b[0m\n\u001b[0m         ^\u001b[0m\n\u001b[0;31mSyntaxError\u001b[0m\u001b[0;31m:\u001b[0m invalid syntax\n"
          ]
        }
      ],
      "source": [
        "break=5"
      ]
    },
    {
      "cell_type": "markdown",
      "metadata": {
        "id": "Sl6jU-isfzoi"
      },
      "source": [
        "**2. Create two variables. One to store your birth year and another one to store current year. Now calculate your age using these two variables**"
      ]
    },
    {
      "cell_type": "code",
      "execution_count": 2,
      "metadata": {
        "scrolled": true,
        "colab": {
          "base_uri": "https://localhost:8080/"
        },
        "id": "RY94l9_hfzoi",
        "outputId": "ff7d3b09-defe-4655-bfbc-68d029dd3249"
      },
      "outputs": [
        {
          "output_type": "execute_result",
          "data": {
            "text/plain": [
              "37"
            ]
          },
          "metadata": {},
          "execution_count": 2
        }
      ],
      "source": [
        "birth_year=1982\n",
        "current_year=2019\n",
        "age=current_year-birth_year\n",
        "age"
      ]
    },
    {
      "cell_type": "markdown",
      "metadata": {
        "id": "5ItU2opNfzoi"
      },
      "source": [
        "**3. Store your first, middle and last name in three different variables and then print your full name using these variables**"
      ]
    },
    {
      "cell_type": "code",
      "execution_count": 3,
      "metadata": {
        "colab": {
          "base_uri": "https://localhost:8080/"
        },
        "id": "uzNFFQv_fzoi",
        "outputId": "55882471-4830-4eac-ae3f-ac50a6b80837"
      },
      "outputs": [
        {
          "output_type": "stream",
          "name": "stdout",
          "text": [
            "My full name is: Dhaval Rambhai Patel\n"
          ]
        }
      ],
      "source": [
        "first=\"Dhaval\"\n",
        "middle=\"Rambhai\"\n",
        "last=\"Patel\"\n",
        "print(\"My full name is: \" + first + \" \" + middle + \" \" + last)"
      ]
    },
    {
      "cell_type": "markdown",
      "metadata": {
        "id": "VFossHL8fzoi"
      },
      "source": [
        "**4. Answer which of these are invalid variable names: \"\\_nation, 1record, record1, record\\_one, record-one, record^one, continue\"**"
      ]
    },
    {
      "cell_type": "markdown",
      "metadata": {
        "id": "XaZj8i-zfzoi"
      },
      "source": [
        "1record, record-one, record^one, continue"
      ]
    },
    {
      "cell_type": "markdown",
      "source": [
        "## Numbers"
      ],
      "metadata": {
        "id": "mERsZk0FgNQZ"
      }
    },
    {
      "cell_type": "markdown",
      "source": [
        "# Exercise\n",
        "# 1. You have a football field that is 92 meter long and 48.8 meter wide. Find out total\n",
        "#    area using python and print it\n"
      ],
      "metadata": {
        "id": "V7yQWUfKgsul"
      }
    },
    {
      "cell_type": "code",
      "source": [
        "length=92\n",
        "width=48.8\n",
        "area=length*width\n",
        "print(\"area of football field:\",area) # Ans: 4489.599999999999"
      ],
      "metadata": {
        "colab": {
          "base_uri": "https://localhost:8080/"
        },
        "id": "Zkf7UDDBgrct",
        "outputId": "05e4c8a3-9bd9-41c2-d219-a1bf5ef42d72"
      },
      "execution_count": 4,
      "outputs": [
        {
          "output_type": "stream",
          "name": "stdout",
          "text": [
            "area of football field: 4489.599999999999\n"
          ]
        }
      ]
    },
    {
      "cell_type": "markdown",
      "source": [
        "# 2. You bought 9 packets of potato chips from a store. Each packet costs 1.49 dollar\n",
        "#    and you gave shopkeeper 20 dollar.\n",
        "#    Find out using python, how many dollars is the shopkeeper going to give you back?"
      ],
      "metadata": {
        "id": "Sdk55TdyhMZC"
      }
    },
    {
      "cell_type": "code",
      "source": [
        "num_packets=9\n",
        "cost_per_packet=1.49\n",
        "total_cost=num_packets*cost_per_packet\n",
        "money_paid=20\n",
        "cash_back=money_paid-total_cost\n",
        "print(\"Cash back:\",cash_back) # Ans: 6.59"
      ],
      "metadata": {
        "colab": {
          "base_uri": "https://localhost:8080/"
        },
        "id": "sYhBskYEhK-B",
        "outputId": "024b0089-0cec-4ccd-df6b-f9e28779ec82"
      },
      "execution_count": 5,
      "outputs": [
        {
          "output_type": "stream",
          "name": "stdout",
          "text": [
            "Cash back: 6.59\n"
          ]
        }
      ]
    },
    {
      "cell_type": "markdown",
      "source": [
        "# 3. You want to replace tiles in your bathroom which is exactly square and 5.5 feet\n",
        "#    is its length. If tiles cost 500 rs per square feet, how much will be the total\n",
        "#    cost to replace all tiles. Calculate and print the cost using python\n",
        "#    Hint: Use power operator (**) to find area of a square"
      ],
      "metadata": {
        "id": "7ATc5pishwyN"
      }
    },
    {
      "cell_type": "code",
      "source": [
        "length=5.5\n",
        "area=length**2 # area of square is length power 2\n",
        "cost=area*500\n",
        "print(\"total cost for bathroom tiles replacement:\",cost) # Ans: 15125.0"
      ],
      "metadata": {
        "colab": {
          "base_uri": "https://localhost:8080/"
        },
        "id": "8emZQe0Yhvcm",
        "outputId": "d8210248-e846-4b1c-a63a-811eb3a13d73"
      },
      "execution_count": 6,
      "outputs": [
        {
          "output_type": "stream",
          "name": "stdout",
          "text": [
            "total cost for bathroom tiles replacement: 15125.0\n"
          ]
        }
      ]
    },
    {
      "cell_type": "markdown",
      "source": [
        "# 4. Print binary representation of number 17"
      ],
      "metadata": {
        "id": "q41e1K_jh9Zo"
      }
    },
    {
      "cell_type": "code",
      "source": [
        "num=17\n",
        "print('Binary of number 17 is:',format(num,'b')) # Ans: 10001"
      ],
      "metadata": {
        "colab": {
          "base_uri": "https://localhost:8080/"
        },
        "id": "-0Y2twf4h5Bp",
        "outputId": "2f4e7504-d6c6-46e9-e8eb-4fc035f4d6d2"
      },
      "execution_count": 7,
      "outputs": [
        {
          "output_type": "stream",
          "name": "stdout",
          "text": [
            "Binary of number 17 is: 10001\n"
          ]
        }
      ]
    },
    {
      "cell_type": "code",
      "source": [],
      "metadata": {
        "id": "wtFPrn0_iAq8"
      },
      "execution_count": null,
      "outputs": []
    }
  ],
  "metadata": {
    "kernelspec": {
      "display_name": "Python 3",
      "language": "python",
      "name": "python3"
    },
    "language_info": {
      "codemirror_mode": {
        "name": "ipython",
        "version": 3
      },
      "file_extension": ".py",
      "mimetype": "text/x-python",
      "name": "python",
      "nbconvert_exporter": "python",
      "pygments_lexer": "ipython3",
      "version": "3.7.3"
    },
    "colab": {
      "provenance": [],
      "include_colab_link": true
    }
  },
  "nbformat": 4,
  "nbformat_minor": 0
}