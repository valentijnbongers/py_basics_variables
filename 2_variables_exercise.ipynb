{
  "cells": [
    {
      "cell_type": "markdown",
      "metadata": {
        "id": "view-in-github",
        "colab_type": "text"
      },
      "source": [
        "<a href=\"https://colab.research.google.com/github/valentijnbongers/py_basics_variables/blob/main/2_variables_exercise.ipynb\" target=\"_parent\"><img src=\"https://colab.research.google.com/assets/colab-badge.svg\" alt=\"Open In Colab\"/></a>"
      ]
    },
    {
      "cell_type": "markdown",
      "metadata": {
        "id": "OcTGCdl1fzog"
      },
      "source": [
        "**1. Create a variable called break and assign it a value 5. See what happens and find out the reason behind the behavior that you see**"
      ]
    },
    {
      "cell_type": "code",
      "execution_count": 1,
      "metadata": {
        "scrolled": true,
        "colab": {
          "base_uri": "https://localhost:8080/",
          "height": 106
        },
        "id": "UzPa9ntMfzoh",
        "outputId": "7e9e5e93-9c6d-4f1e-f334-8da1c18f4bfd"
      },
      "outputs": [
        {
          "output_type": "error",
          "ename": "SyntaxError",
          "evalue": "invalid syntax (<ipython-input-1-7abc8ab243ff>, line 1)",
          "traceback": [
            "\u001b[0;36m  File \u001b[0;32m\"<ipython-input-1-7abc8ab243ff>\"\u001b[0;36m, line \u001b[0;32m1\u001b[0m\n\u001b[0;31m    break=5\u001b[0m\n\u001b[0m         ^\u001b[0m\n\u001b[0;31mSyntaxError\u001b[0m\u001b[0;31m:\u001b[0m invalid syntax\n"
          ]
        }
      ],
      "source": [
        "break=5"
      ]
    },
    {
      "cell_type": "markdown",
      "metadata": {
        "id": "Sl6jU-isfzoi"
      },
      "source": [
        "**2. Create two variables. One to store your birth year and another one to store current year. Now calculate your age using these two variables**"
      ]
    },
    {
      "cell_type": "code",
      "execution_count": 2,
      "metadata": {
        "scrolled": true,
        "colab": {
          "base_uri": "https://localhost:8080/"
        },
        "id": "RY94l9_hfzoi",
        "outputId": "ff7d3b09-defe-4655-bfbc-68d029dd3249"
      },
      "outputs": [
        {
          "output_type": "execute_result",
          "data": {
            "text/plain": [
              "37"
            ]
          },
          "metadata": {},
          "execution_count": 2
        }
      ],
      "source": [
        "birth_year=1982\n",
        "current_year=2019\n",
        "age=current_year-birth_year\n",
        "age"
      ]
    },
    {
      "cell_type": "markdown",
      "metadata": {
        "id": "5ItU2opNfzoi"
      },
      "source": [
        "**3. Store your first, middle and last name in three different variables and then print your full name using these variables**"
      ]
    },
    {
      "cell_type": "code",
      "execution_count": 3,
      "metadata": {
        "colab": {
          "base_uri": "https://localhost:8080/"
        },
        "id": "uzNFFQv_fzoi",
        "outputId": "55882471-4830-4eac-ae3f-ac50a6b80837"
      },
      "outputs": [
        {
          "output_type": "stream",
          "name": "stdout",
          "text": [
            "My full name is: Dhaval Rambhai Patel\n"
          ]
        }
      ],
      "source": [
        "first=\"Dhaval\"\n",
        "middle=\"Rambhai\"\n",
        "last=\"Patel\"\n",
        "print(\"My full name is: \" + first + \" \" + middle + \" \" + last)"
      ]
    },
    {
      "cell_type": "markdown",
      "metadata": {
        "id": "VFossHL8fzoi"
      },
      "source": [
        "**4. Answer which of these are invalid variable names: \"\\_nation, 1record, record1, record\\_one, record-one, record^one, continue\"**"
      ]
    },
    {
      "cell_type": "markdown",
      "metadata": {
        "id": "XaZj8i-zfzoi"
      },
      "source": [
        "1record, record-one, record^one, continue"
      ]
    }
  ],
  "metadata": {
    "kernelspec": {
      "display_name": "Python 3",
      "language": "python",
      "name": "python3"
    },
    "language_info": {
      "codemirror_mode": {
        "name": "ipython",
        "version": 3
      },
      "file_extension": ".py",
      "mimetype": "text/x-python",
      "name": "python",
      "nbconvert_exporter": "python",
      "pygments_lexer": "ipython3",
      "version": "3.7.3"
    },
    "colab": {
      "provenance": [],
      "include_colab_link": true
    }
  },
  "nbformat": 4,
  "nbformat_minor": 0
}