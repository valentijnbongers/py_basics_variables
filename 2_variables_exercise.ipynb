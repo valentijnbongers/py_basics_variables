{
  "cells": [
    {
      "cell_type": "markdown",
      "metadata": {
        "id": "view-in-github",
        "colab_type": "text"
      },
      "source": [
        "<a href=\"https://colab.research.google.com/github/valentijnbongers/py_basics_variables/blob/main/2_variables_exercise.ipynb\" target=\"_parent\"><img src=\"https://colab.research.google.com/assets/colab-badge.svg\" alt=\"Open In Colab\"/></a>"
      ]
    },
    {
      "cell_type": "markdown",
      "metadata": {
        "id": "OcTGCdl1fzog"
      },
      "source": [
        "**1. Create a variable called break and assign it a value 5. See what happens and find out the reason behind the behavior that you see**"
      ]
    },
    {
      "cell_type": "code",
      "execution_count": 1,
      "metadata": {
        "scrolled": true,
        "colab": {
          "base_uri": "https://localhost:8080/",
          "height": 106
        },
        "id": "UzPa9ntMfzoh",
        "outputId": "7e9e5e93-9c6d-4f1e-f334-8da1c18f4bfd"
      },
      "outputs": [
        {
          "output_type": "error",
          "ename": "SyntaxError",
          "evalue": "invalid syntax (<ipython-input-1-7abc8ab243ff>, line 1)",
          "traceback": [
            "\u001b[0;36m  File \u001b[0;32m\"<ipython-input-1-7abc8ab243ff>\"\u001b[0;36m, line \u001b[0;32m1\u001b[0m\n\u001b[0;31m    break=5\u001b[0m\n\u001b[0m         ^\u001b[0m\n\u001b[0;31mSyntaxError\u001b[0m\u001b[0;31m:\u001b[0m invalid syntax\n"
          ]
        }
      ],
      "source": [
        "break=5"
      ]
    },
    {
      "cell_type": "markdown",
      "metadata": {
        "id": "Sl6jU-isfzoi"
      },
      "source": [
        "**2. Create two variables. One to store your birth year and another one to store current year. Now calculate your age using these two variables**"
      ]
    },
    {
      "cell_type": "code",
      "execution_count": 2,
      "metadata": {
        "scrolled": true,
        "colab": {
          "base_uri": "https://localhost:8080/"
        },
        "id": "RY94l9_hfzoi",
        "outputId": "ff7d3b09-defe-4655-bfbc-68d029dd3249"
      },
      "outputs": [
        {
          "output_type": "execute_result",
          "data": {
            "text/plain": [
              "37"
            ]
          },
          "metadata": {},
          "execution_count": 2
        }
      ],
      "source": [
        "birth_year=1982\n",
        "current_year=2019\n",
        "age=current_year-birth_year\n",
        "age"
      ]
    },
    {
      "cell_type": "markdown",
      "metadata": {
        "id": "5ItU2opNfzoi"
      },
      "source": [
        "**3. Store your first, middle and last name in three different variables and then print your full name using these variables**"
      ]
    },
    {
      "cell_type": "code",
      "execution_count": 3,
      "metadata": {
        "colab": {
          "base_uri": "https://localhost:8080/"
        },
        "id": "uzNFFQv_fzoi",
        "outputId": "55882471-4830-4eac-ae3f-ac50a6b80837"
      },
      "outputs": [
        {
          "output_type": "stream",
          "name": "stdout",
          "text": [
            "My full name is: Dhaval Rambhai Patel\n"
          ]
        }
      ],
      "source": [
        "first=\"Dhaval\"\n",
        "middle=\"Rambhai\"\n",
        "last=\"Patel\"\n",
        "print(\"My full name is: \" + first + \" \" + middle + \" \" + last)"
      ]
    },
    {
      "cell_type": "markdown",
      "metadata": {
        "id": "VFossHL8fzoi"
      },
      "source": [
        "**4. Answer which of these are invalid variable names: \"\\_nation, 1record, record1, record\\_one, record-one, record^one, continue\"**"
      ]
    },
    {
      "cell_type": "markdown",
      "metadata": {
        "id": "XaZj8i-zfzoi"
      },
      "source": [
        "1record, record-one, record^one, continue"
      ]
    },
    {
      "cell_type": "markdown",
      "source": [
        "## Numbers"
      ],
      "metadata": {
        "id": "mERsZk0FgNQZ"
      }
    },
    {
      "cell_type": "markdown",
      "source": [
        "# Exercise\n",
        "# 1. You have a football field that is 92 meter long and 48.8 meter wide. Find out total\n",
        "#    area using python and print it\n"
      ],
      "metadata": {
        "id": "V7yQWUfKgsul"
      }
    },
    {
      "cell_type": "code",
      "source": [
        "length=92\n",
        "width=48.8\n",
        "area=length*width\n",
        "print(\"area of football field:\",area) # Ans: 4489.599999999999"
      ],
      "metadata": {
        "colab": {
          "base_uri": "https://localhost:8080/"
        },
        "id": "Zkf7UDDBgrct",
        "outputId": "05e4c8a3-9bd9-41c2-d219-a1bf5ef42d72"
      },
      "execution_count": 4,
      "outputs": [
        {
          "output_type": "stream",
          "name": "stdout",
          "text": [
            "area of football field: 4489.599999999999\n"
          ]
        }
      ]
    },
    {
      "cell_type": "markdown",
      "source": [
        "# 2. You bought 9 packets of potato chips from a store. Each packet costs 1.49 dollar\n",
        "#    and you gave shopkeeper 20 dollar.\n",
        "#    Find out using python, how many dollars is the shopkeeper going to give you back?"
      ],
      "metadata": {
        "id": "Sdk55TdyhMZC"
      }
    },
    {
      "cell_type": "code",
      "source": [
        "num_packets=9\n",
        "cost_per_packet=1.49\n",
        "total_cost=num_packets*cost_per_packet\n",
        "money_paid=20\n",
        "cash_back=money_paid-total_cost\n",
        "print(\"Cash back:\",cash_back) # Ans: 6.59"
      ],
      "metadata": {
        "colab": {
          "base_uri": "https://localhost:8080/"
        },
        "id": "sYhBskYEhK-B",
        "outputId": "024b0089-0cec-4ccd-df6b-f9e28779ec82"
      },
      "execution_count": 5,
      "outputs": [
        {
          "output_type": "stream",
          "name": "stdout",
          "text": [
            "Cash back: 6.59\n"
          ]
        }
      ]
    },
    {
      "cell_type": "markdown",
      "source": [
        "# 3. You want to replace tiles in your bathroom which is exactly square and 5.5 feet\n",
        "#    is its length. If tiles cost 500 rs per square feet, how much will be the total\n",
        "#    cost to replace all tiles. Calculate and print the cost using python\n",
        "#    Hint: Use power operator (**) to find area of a square"
      ],
      "metadata": {
        "id": "7ATc5pishwyN"
      }
    },
    {
      "cell_type": "code",
      "source": [
        "length=5.5\n",
        "area=length**2 # area of square is length power 2\n",
        "cost=area*500\n",
        "print(\"total cost for bathroom tiles replacement:\",cost) # Ans: 15125.0"
      ],
      "metadata": {
        "colab": {
          "base_uri": "https://localhost:8080/"
        },
        "id": "8emZQe0Yhvcm",
        "outputId": "d8210248-e846-4b1c-a63a-811eb3a13d73"
      },
      "execution_count": 6,
      "outputs": [
        {
          "output_type": "stream",
          "name": "stdout",
          "text": [
            "total cost for bathroom tiles replacement: 15125.0\n"
          ]
        }
      ]
    },
    {
      "cell_type": "markdown",
      "source": [
        "# 4. Print binary representation of number 17"
      ],
      "metadata": {
        "id": "q41e1K_jh9Zo"
      }
    },
    {
      "cell_type": "code",
      "source": [
        "num=17\n",
        "print('Binary of number 17 is:',format(num,'b')) # Ans: 10001"
      ],
      "metadata": {
        "colab": {
          "base_uri": "https://localhost:8080/"
        },
        "id": "-0Y2twf4h5Bp",
        "outputId": "2f4e7504-d6c6-46e9-e8eb-4fc035f4d6d2"
      },
      "execution_count": 7,
      "outputs": [
        {
          "output_type": "stream",
          "name": "stdout",
          "text": [
            "Binary of number 17 is: 10001\n"
          ]
        }
      ]
    },
    {
      "cell_type": "markdown",
      "source": [
        "# String"
      ],
      "metadata": {
        "id": "wBEmJoOViVe6"
      }
    },
    {
      "cell_type": "markdown",
      "source": [
        "# 1. Create 3 variables to store street, city and country, now create address variable to\n",
        "# store entire address. Use two ways of creating this variable, one using + operator and the other using f-string.\n",
        "# Now Print the address in such a way that the street, city and country prints in a separate line"
      ],
      "metadata": {
        "id": "hCTwUi4xiJaw"
      }
    },
    {
      "cell_type": "code",
      "source": [
        "street = \"13 patli gali\"\n",
        "city = \"New Delhi\"\n",
        "country = \"India\"\n",
        "address = street + '\\n' + city + '\\n' + country\n",
        "print(\"Address using + operator:\",address)\n",
        "address = f'{street}\\n{city}\\n{country}'\n",
        "print(\"Address using f-string:\",address)"
      ],
      "metadata": {
        "colab": {
          "base_uri": "https://localhost:8080/"
        },
        "id": "wtFPrn0_iAq8",
        "outputId": "25152e3e-ac5d-4fe8-a5b0-2a05c728641c"
      },
      "execution_count": 8,
      "outputs": [
        {
          "output_type": "stream",
          "name": "stdout",
          "text": [
            "Address using + operator: 13 patli gali\n",
            "New Delhi\n",
            "India\n",
            "Address using f-string: 13 patli gali\n",
            "New Delhi\n",
            "India\n"
          ]
        }
      ]
    },
    {
      "cell_type": "markdown",
      "source": [
        "# 2. Create a variable to store the string \"Earth revolves around the sun\"\n",
        "#     1. Print \"revolves\" using slice operator\n",
        "#     2. Print \"sun\" using negative index"
      ],
      "metadata": {
        "id": "-0hr2R3nieWy"
      }
    },
    {
      "cell_type": "code",
      "source": [
        "s='Earth revolves around the sun'\n",
        "print(s[6:14])\n",
        "print(s[-3:])"
      ],
      "metadata": {
        "colab": {
          "base_uri": "https://localhost:8080/"
        },
        "id": "ctcSQjEWiagi",
        "outputId": "22c6b6d8-2c33-4f44-da73-5c6e58687bd1"
      },
      "execution_count": 9,
      "outputs": [
        {
          "output_type": "stream",
          "name": "stdout",
          "text": [
            "revolves\n",
            "sun\n"
          ]
        }
      ]
    },
    {
      "cell_type": "markdown",
      "source": [
        "# 3. Create two variables to store how many fruits and vegetables you eat in a day.\n",
        "# Now Print \"I eat x veggies and y fruits daily\" where x and y presents vegetables and fruits that you eat everyday.\n",
        "# Use python f string for this."
      ],
      "metadata": {
        "id": "V3FR8uQrik30"
      }
    },
    {
      "cell_type": "code",
      "source": [
        "num_fruits=10\n",
        "num_veggies=5\n",
        "print(f\"I eat {num_veggies} veggies and {num_fruits} daily\")"
      ],
      "metadata": {
        "colab": {
          "base_uri": "https://localhost:8080/"
        },
        "id": "z5XobwARihqt",
        "outputId": "e7433601-3d77-42fb-e81a-73f24cf9bb2b"
      },
      "execution_count": 10,
      "outputs": [
        {
          "output_type": "stream",
          "name": "stdout",
          "text": [
            "I eat 5 veggies and 10 daily\n"
          ]
        }
      ]
    },
    {
      "cell_type": "markdown",
      "source": [
        "# 4. I have a string variable called s='maine 200 banana khaye'. This of course is a\n",
        "# wrong statement, the correct statement is 'maine 10 samosa khaye'.\n",
        "# Replace incorrect words in original strong with new ones and print the new string.\n",
        "# Also try to do this in one line."
      ],
      "metadata": {
        "id": "AsdXBq31isgk"
      }
    },
    {
      "cell_type": "code",
      "source": [
        "s='maine 200 banana khaye'\n",
        "s=s.replace('banana','samosa')\n",
        "s=s.replace('200','10')\n",
        "print(\"Using two line replace:\",s)\n",
        "\n",
        "s='maine 200 banana khaye'\n",
        "s=s.replace('banana','samosa').replace('200','10')\n",
        "print(\"Using single line:\",s)"
      ],
      "metadata": {
        "colab": {
          "base_uri": "https://localhost:8080/"
        },
        "id": "SG5RcpdUioF1",
        "outputId": "735c7a40-1f7b-47c3-f324-298d4e9850dd"
      },
      "execution_count": 12,
      "outputs": [
        {
          "output_type": "stream",
          "name": "stdout",
          "text": [
            "Using two line replace: maine 10 samosa khaye\n",
            "Using single line: maine 10 samosa khaye\n"
          ]
        }
      ]
    },
    {
      "cell_type": "markdown",
      "source": [
        "# Lists"
      ],
      "metadata": {
        "id": "kIBTs0RUiwmd"
      }
    },
    {
      "cell_type": "markdown",
      "source": [
        "Let us say your expense for every month are listed below,\n",
        "1. January -  2200\n",
        "2. February - 2350\n",
        "3. March - 2600\n",
        "4. April - 2130\n",
        "5. May - 2190\n",
        "\n",
        "Create a list to store these monthly expenses and using that find out,\n",
        "\n",
        "1. In Feb, how many dollars you spent extra compare to January?\n",
        "2. Find out your total expense in first quarter (first three months) of the year.\n",
        "3. Find out if you spent exactly 2000 dollars in any month\n",
        "4. June month just finished and your expense is 1980 dollar. Add this item to our monthly expense list\n",
        "5. You returned an item that you bought in a month of April and\n",
        "got a refund of 200$. Make a correction to your monthly expense list\n",
        "based on this\n"
      ],
      "metadata": {
        "id": "r58vXyehjhGR"
      }
    },
    {
      "cell_type": "code",
      "source": [
        "exp = [2200,2350,2600,2130,2190]"
      ],
      "metadata": {
        "id": "IWuM_jzPivaq"
      },
      "execution_count": 13,
      "outputs": []
    },
    {
      "cell_type": "markdown",
      "source": [
        "#### 1. In Feb, how many dollars you spent extra compare to January?"
      ],
      "metadata": {
        "id": "KJBxswd1j4Rl"
      }
    },
    {
      "cell_type": "code",
      "source": [
        "print(\"In feb this much extra was spent compared to jan:\",exp[1]-exp[0]) # 150"
      ],
      "metadata": {
        "colab": {
          "base_uri": "https://localhost:8080/"
        },
        "id": "xzuspRlvj0fI",
        "outputId": "0cc4e6ac-693f-4c25-dec8-93f2ef4e3b45"
      },
      "execution_count": 14,
      "outputs": [
        {
          "output_type": "stream",
          "name": "stdout",
          "text": [
            "In feb this much extra was spent compared to jan: 150\n"
          ]
        }
      ]
    },
    {
      "cell_type": "markdown",
      "source": [
        "#### # 2. Find out your total expense in first quarter (first three months) of the year"
      ],
      "metadata": {
        "id": "S6wfw-lDkCGB"
      }
    },
    {
      "cell_type": "code",
      "source": [
        "print(\"Expense for first quarter:\",exp[0]+exp[1]+exp[2]) # 7150"
      ],
      "metadata": {
        "colab": {
          "base_uri": "https://localhost:8080/"
        },
        "id": "RASLBvuIj-cr",
        "outputId": "71e3d49f-3839-496e-edae-62f4d5d7b75a"
      },
      "execution_count": 15,
      "outputs": [
        {
          "output_type": "stream",
          "name": "stdout",
          "text": [
            "Expense for first quarter: 7150\n"
          ]
        }
      ]
    },
    {
      "cell_type": "code",
      "source": [],
      "metadata": {
        "id": "vDMm7lLRkIXJ"
      },
      "execution_count": null,
      "outputs": []
    },
    {
      "cell_type": "markdown",
      "source": [
        "#### 3. Find out if you spent exactly 2000 dollars in any month"
      ],
      "metadata": {
        "id": "9PMZ1ZetkJYo"
      }
    },
    {
      "cell_type": "code",
      "source": [
        "print(\"Did I spent 2000$ in any month? \", 2000 in exp) # False"
      ],
      "metadata": {
        "colab": {
          "base_uri": "https://localhost:8080/"
        },
        "id": "NeQn35MBkMyv",
        "outputId": "ebeeef89-8a84-4f44-8382-ceed9cc4d065"
      },
      "execution_count": 16,
      "outputs": [
        {
          "output_type": "stream",
          "name": "stdout",
          "text": [
            "Did I spent 2000$ in any month?  False\n"
          ]
        }
      ]
    },
    {
      "cell_type": "markdown",
      "source": [
        "#### 4. June month just finished and your expense is 1980 dollar. Add this item to our monthly expense list"
      ],
      "metadata": {
        "id": "X-Q_2MmMkbIL"
      }
    },
    {
      "cell_type": "code",
      "source": [
        "exp.append(1980)\n",
        "print(\"Expenses at the end of June:\",exp) # [2200, 2350, 2600, 2130, 2190, 1980]"
      ],
      "metadata": {
        "colab": {
          "base_uri": "https://localhost:8080/"
        },
        "id": "sYdypExQkPKP",
        "outputId": "8767b467-d2c0-4956-899e-9916b3a5188a"
      },
      "execution_count": 17,
      "outputs": [
        {
          "output_type": "stream",
          "name": "stdout",
          "text": [
            "Expenses at the end of June: [2200, 2350, 2600, 2130, 2190, 1980]\n"
          ]
        }
      ]
    },
    {
      "cell_type": "markdown",
      "source": [
        "#### 5. You returned an item that you bought in a month of April and\n",
        "#### got a refund of 200$. Make a correction to your monthly expense list\n",
        "#### based on this"
      ],
      "metadata": {
        "id": "Iat6QND_kqB3"
      }
    },
    {
      "cell_type": "code",
      "source": [
        "exp[3] = exp[3] - 200\n",
        "print(\"Expenses after 200$ return in April:\",exp) # [2200, 2350, 2600, 1930, 2190, 1980]"
      ],
      "metadata": {
        "colab": {
          "base_uri": "https://localhost:8080/"
        },
        "id": "DYk_PYSjklva",
        "outputId": "2277cf92-7c57-4d8a-9d4c-c4bdb1dba0df"
      },
      "execution_count": 18,
      "outputs": [
        {
          "output_type": "stream",
          "name": "stdout",
          "text": [
            "Expenses after 200$ return in April: [2200, 2350, 2600, 1930, 2190, 1980]\n"
          ]
        }
      ]
    },
    {
      "cell_type": "code",
      "source": [
        "# 2. You have a list of your favourite marvel super heros\n",
        "# heros=['spider man','thor','hulk','iron man','captain america']\n",
        "# Using this list\n",
        "\n",
        "heros=['spider man','thor','hulk','iron man','captain america']\n",
        "# 1. Length of the list\n",
        "print(len(heros))\n",
        "# 2. Add 'black panther' at the end of this list\n",
        "heros.append('black panther')\n",
        "print(heros)\n",
        "# 3. You realize that you need to add 'black panther' after 'hulk',\n",
        "# so remove it from the list first and then add it after 'hulk'\n",
        "heros.remove('black panther')\n",
        "heros.insert(3,'black panther')\n",
        "print(heros)\n",
        "# 4. Now you don't like thor and hulk because they get angry easily :)\n",
        "#    So you want to remove thor and hulk from list and replace them with doctor strange (because he is cool).\n",
        "#    Do that with one line of code.\n",
        "heros[1:3]=['doctor strange']\n",
        "print(heros)\n",
        "# 5. Sort the list in alphabetical order\n",
        "heros.sort()\n",
        "print(heros)"
      ],
      "metadata": {
        "colab": {
          "base_uri": "https://localhost:8080/"
        },
        "id": "MR90DVlOkwGV",
        "outputId": "a86bcdea-a0d1-45e9-9bcd-6f334c329940"
      },
      "execution_count": 19,
      "outputs": [
        {
          "output_type": "stream",
          "name": "stdout",
          "text": [
            "5\n",
            "['spider man', 'thor', 'hulk', 'iron man', 'captain america', 'black panther']\n",
            "['spider man', 'thor', 'hulk', 'black panther', 'iron man', 'captain america']\n",
            "['spider man', 'doctor strange', 'black panther', 'iron man', 'captain america']\n",
            "['black panther', 'captain america', 'doctor strange', 'iron man', 'spider man']\n"
          ]
        }
      ]
    },
    {
      "cell_type": "code",
      "source": [],
      "metadata": {
        "id": "ANlRcQUXk4_t"
      },
      "execution_count": null,
      "outputs": []
    }
  ],
  "metadata": {
    "kernelspec": {
      "display_name": "Python 3",
      "language": "python",
      "name": "python3"
    },
    "language_info": {
      "codemirror_mode": {
        "name": "ipython",
        "version": 3
      },
      "file_extension": ".py",
      "mimetype": "text/x-python",
      "name": "python",
      "nbconvert_exporter": "python",
      "pygments_lexer": "ipython3",
      "version": "3.7.3"
    },
    "colab": {
      "provenance": [],
      "include_colab_link": true
    }
  },
  "nbformat": 4,
  "nbformat_minor": 0
}